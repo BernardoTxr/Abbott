{
 "cells": [
  {
   "cell_type": "code",
   "execution_count": 71,
   "metadata": {},
   "outputs": [],
   "source": [
    "import pandas as pd\n",
    "import numpy as np\n",
    "import matplotlib.pyplot as plt\n",
    "from datetime import datetime\n",
    "from geobr import read_municipality\n",
    "from geobr import read_state\n",
    "from unidecode import unidecode"
   ]
  },
  {
   "cell_type": "code",
   "execution_count": 2,
   "metadata": {},
   "outputs": [],
   "source": [
    "frete = pd.read_excel('../BaseDados/f_bases_frete.xlsx', sheet_name=\"f_custos_frete\",skiprows=2)"
   ]
  },
  {
   "cell_type": "code",
   "execution_count": 3,
   "metadata": {},
   "outputs": [
    {
     "data": {
      "text/html": [
       "<div>\n",
       "<style scoped>\n",
       "    .dataframe tbody tr th:only-of-type {\n",
       "        vertical-align: middle;\n",
       "    }\n",
       "\n",
       "    .dataframe tbody tr th {\n",
       "        vertical-align: top;\n",
       "    }\n",
       "\n",
       "    .dataframe thead th {\n",
       "        text-align: right;\n",
       "    }\n",
       "</style>\n",
       "<table border=\"1\" class=\"dataframe\">\n",
       "  <thead>\n",
       "    <tr style=\"text-align: right;\">\n",
       "      <th></th>\n",
       "      <th>Date de Cobrança</th>\n",
       "      <th>Data Emissão Nota Fiscal</th>\n",
       "      <th>Nota Fiscal</th>\n",
       "      <th>Conhecimento</th>\n",
       "      <th>Divisão</th>\n",
       "      <th>Modalidade</th>\n",
       "      <th>Tabela Aplicada</th>\n",
       "      <th>Tipo de Serviço</th>\n",
       "      <th>Tipo de Veiculo</th>\n",
       "      <th>Veiculo</th>\n",
       "      <th>...</th>\n",
       "      <th>Sefaz</th>\n",
       "      <th>Coleta</th>\n",
       "      <th>Despacho</th>\n",
       "      <th>Emex</th>\n",
       "      <th>Endereço Adicional</th>\n",
       "      <th>Entrega</th>\n",
       "      <th>Frete Canhoto</th>\n",
       "      <th>Frete Liquido</th>\n",
       "      <th>ICMS</th>\n",
       "      <th>Frete Bruto</th>\n",
       "    </tr>\n",
       "  </thead>\n",
       "  <tbody>\n",
       "    <tr>\n",
       "      <th>0</th>\n",
       "      <td>2022-09-01</td>\n",
       "      <td>2022-06-06</td>\n",
       "      <td>368366</td>\n",
       "      <td>387394</td>\n",
       "      <td>EPD</td>\n",
       "      <td>RODOVIARIO</td>\n",
       "      <td>Convencional</td>\n",
       "      <td>DEVOLUCAO</td>\n",
       "      <td>NaN</td>\n",
       "      <td>NaN</td>\n",
       "      <td>...</td>\n",
       "      <td>NaN</td>\n",
       "      <td>NaN</td>\n",
       "      <td>NaN</td>\n",
       "      <td>NaN</td>\n",
       "      <td>NaN</td>\n",
       "      <td>NaN</td>\n",
       "      <td>NaN</td>\n",
       "      <td>NaN</td>\n",
       "      <td>NaN</td>\n",
       "      <td>114.428964</td>\n",
       "    </tr>\n",
       "    <tr>\n",
       "      <th>1</th>\n",
       "      <td>2022-09-01</td>\n",
       "      <td>2022-09-08</td>\n",
       "      <td>387739</td>\n",
       "      <td>168859</td>\n",
       "      <td>AN</td>\n",
       "      <td>RODOVIARIO</td>\n",
       "      <td>Convencional</td>\n",
       "      <td>ENTREGA</td>\n",
       "      <td>NaN</td>\n",
       "      <td>NaN</td>\n",
       "      <td>...</td>\n",
       "      <td>NaN</td>\n",
       "      <td>NaN</td>\n",
       "      <td>NaN</td>\n",
       "      <td>NaN</td>\n",
       "      <td>NaN</td>\n",
       "      <td>NaN</td>\n",
       "      <td>NaN</td>\n",
       "      <td>NaN</td>\n",
       "      <td>24.43</td>\n",
       "      <td>348.970000</td>\n",
       "    </tr>\n",
       "    <tr>\n",
       "      <th>2</th>\n",
       "      <td>2022-09-01</td>\n",
       "      <td>2022-09-12</td>\n",
       "      <td>388393</td>\n",
       "      <td>173870</td>\n",
       "      <td>AN</td>\n",
       "      <td>RODOVIARIO</td>\n",
       "      <td>Convencional</td>\n",
       "      <td>ENTREGA</td>\n",
       "      <td>NaN</td>\n",
       "      <td>NaN</td>\n",
       "      <td>...</td>\n",
       "      <td>NaN</td>\n",
       "      <td>NaN</td>\n",
       "      <td>NaN</td>\n",
       "      <td>NaN</td>\n",
       "      <td>NaN</td>\n",
       "      <td>NaN</td>\n",
       "      <td>NaN</td>\n",
       "      <td>NaN</td>\n",
       "      <td>24.43</td>\n",
       "      <td>348.970000</td>\n",
       "    </tr>\n",
       "    <tr>\n",
       "      <th>3</th>\n",
       "      <td>2022-09-01</td>\n",
       "      <td>2022-09-14</td>\n",
       "      <td>389290</td>\n",
       "      <td>177523</td>\n",
       "      <td>AN</td>\n",
       "      <td>RODOVIARIO</td>\n",
       "      <td>Convencional</td>\n",
       "      <td>ENTREGA</td>\n",
       "      <td>NaN</td>\n",
       "      <td>NaN</td>\n",
       "      <td>...</td>\n",
       "      <td>NaN</td>\n",
       "      <td>NaN</td>\n",
       "      <td>NaN</td>\n",
       "      <td>NaN</td>\n",
       "      <td>NaN</td>\n",
       "      <td>NaN</td>\n",
       "      <td>NaN</td>\n",
       "      <td>NaN</td>\n",
       "      <td>31.93</td>\n",
       "      <td>456.180000</td>\n",
       "    </tr>\n",
       "    <tr>\n",
       "      <th>4</th>\n",
       "      <td>2022-09-01</td>\n",
       "      <td>2022-09-16</td>\n",
       "      <td>390067</td>\n",
       "      <td>181634</td>\n",
       "      <td>AN</td>\n",
       "      <td>RODOVIARIO</td>\n",
       "      <td>Convencional</td>\n",
       "      <td>ENTREGA</td>\n",
       "      <td>NaN</td>\n",
       "      <td>NaN</td>\n",
       "      <td>...</td>\n",
       "      <td>NaN</td>\n",
       "      <td>NaN</td>\n",
       "      <td>NaN</td>\n",
       "      <td>NaN</td>\n",
       "      <td>NaN</td>\n",
       "      <td>NaN</td>\n",
       "      <td>NaN</td>\n",
       "      <td>NaN</td>\n",
       "      <td>9.26</td>\n",
       "      <td>132.320000</td>\n",
       "    </tr>\n",
       "  </tbody>\n",
       "</table>\n",
       "<p>5 rows × 61 columns</p>\n",
       "</div>"
      ],
      "text/plain": [
       "  Date de Cobrança Data Emissão Nota Fiscal  Nota Fiscal Conhecimento Divisão  \\\n",
       "0       2022-09-01               2022-06-06       368366       387394     EPD   \n",
       "1       2022-09-01               2022-09-08       387739       168859      AN   \n",
       "2       2022-09-01               2022-09-12       388393       173870      AN   \n",
       "3       2022-09-01               2022-09-14       389290       177523      AN   \n",
       "4       2022-09-01               2022-09-16       390067       181634      AN   \n",
       "\n",
       "   Modalidade Tabela Aplicada Tipo de Serviço Tipo de Veiculo  Veiculo  ...  \\\n",
       "0  RODOVIARIO    Convencional       DEVOLUCAO             NaN      NaN  ...   \n",
       "1  RODOVIARIO    Convencional         ENTREGA             NaN      NaN  ...   \n",
       "2  RODOVIARIO    Convencional         ENTREGA             NaN      NaN  ...   \n",
       "3  RODOVIARIO    Convencional         ENTREGA             NaN      NaN  ...   \n",
       "4  RODOVIARIO    Convencional         ENTREGA             NaN      NaN  ...   \n",
       "\n",
       "  Sefaz Coleta  Despacho Emex  Endereço Adicional Entrega  Frete Canhoto  \\\n",
       "0   NaN    NaN       NaN  NaN                 NaN     NaN            NaN   \n",
       "1   NaN    NaN       NaN  NaN                 NaN     NaN            NaN   \n",
       "2   NaN    NaN       NaN  NaN                 NaN     NaN            NaN   \n",
       "3   NaN    NaN       NaN  NaN                 NaN     NaN            NaN   \n",
       "4   NaN    NaN       NaN  NaN                 NaN     NaN            NaN   \n",
       "\n",
       "  Frete Liquido   ICMS  Frete Bruto  \n",
       "0           NaN    NaN   114.428964  \n",
       "1           NaN  24.43   348.970000  \n",
       "2           NaN  24.43   348.970000  \n",
       "3           NaN  31.93   456.180000  \n",
       "4           NaN   9.26   132.320000  \n",
       "\n",
       "[5 rows x 61 columns]"
      ]
     },
     "execution_count": 3,
     "metadata": {},
     "output_type": "execute_result"
    }
   ],
   "source": [
    "frete.head()"
   ]
  },
  {
   "cell_type": "code",
   "execution_count": 4,
   "metadata": {},
   "outputs": [
    {
     "data": {
      "text/plain": [
       "Index(['Date de Cobrança', 'Data Emissão Nota Fiscal', 'Nota Fiscal',\n",
       "       'Conhecimento', 'Divisão', 'Modalidade', 'Tabela Aplicada',\n",
       "       'Tipo de Serviço', 'Tipo de Veiculo', 'Veiculo', 'Processo',\n",
       "       'Transportadora', 'CNPJ do Destinatario', 'Nome do Destinatario',\n",
       "       'CNPJ do Remetente', 'Nome do Remetente', 'CNPJ (CALC)', 'UF (CALC)',\n",
       "       'Cidade (CALC)', 'AGE?', 'Carro na Ponta?', 'Emergencial?', 'EMEX?',\n",
       "       'Improdutiva?', 'Paletização?', 'Seg Fluvial?', 'Suframa?', 'TDE?',\n",
       "       'TRT?', 'Peso', 'Range Peso', 'Volumes', 'Valor NF', 'Frete Peso',\n",
       "       'Frete Valor', 'Ad Valorem', 'Gris', '%NF', 'TRT', 'AGE', 'Urg',\n",
       "       'Valor Frete', 'Valor do Veiculo', 'TDE', 'Ajudante', 'Suframa',\n",
       "       'Seguro Fluvial', 'Paletização', 'Pedagio', 'Canhoto', 'Carro na Ponta',\n",
       "       'Sefaz', 'Coleta', 'Despacho', 'Emex', 'Endereço Adicional', 'Entrega',\n",
       "       'Frete Canhoto', 'Frete Liquido', 'ICMS', 'Frete Bruto'],\n",
       "      dtype='object')"
      ]
     },
     "execution_count": 4,
     "metadata": {},
     "output_type": "execute_result"
    }
   ],
   "source": [
    "frete.columns"
   ]
  },
  {
   "cell_type": "code",
   "execution_count": 5,
   "metadata": {},
   "outputs": [
    {
     "data": {
      "text/plain": [
       "CNPJ do Destinatario\n",
       "45453214001808    3665\n",
       "65817900000171    1465\n",
       "56998701003301    1301\n",
       "5782733000149     1296\n",
       "5782733000300     1147\n",
       "                  ... \n",
       "75299437749          1\n",
       "25240038848          1\n",
       "26067292858          1\n",
       "9859975752           1\n",
       "46374500017240       1\n",
       "Name: count, Length: 931, dtype: int64"
      ]
     },
     "execution_count": 5,
     "metadata": {},
     "output_type": "execute_result"
    }
   ],
   "source": [
    "frete['CNPJ do Destinatario'].value_counts()"
   ]
  },
  {
   "cell_type": "code",
   "execution_count": 113,
   "metadata": {},
   "outputs": [],
   "source": [
    "# Criando o DataFrame\n",
    "df = pd.DataFrame(frete)\n",
    "\n",
    "# Convertendo a coluna de data para o tipo datetime\n",
    "df['Data Emissão Nota Fiscal'] = pd.to_datetime(df['Data Emissão Nota Fiscal'])\n",
    "\n",
    "# Criando a coluna de semana\n",
    "df['Semana'] = df['Data Emissão Nota Fiscal'].dt.isocalendar().week\n",
    "\n",
    "# Agrupando por CNPJ e semana, contando o número de pedidos\n",
    "grupo_cnpj_semana = df.groupby(['CNPJ do Destinatario', 'Semana']).size().reset_index(name='Número de Pedidos')\n",
    "\n",
    "# Criando o novo DataFrame com pivotagem\n",
    "novo_df = grupo_cnpj_semana.pivot(index='CNPJ do Destinatario', columns='Semana', values='Número de Pedidos').fillna(0)\n",
    "\n",
    "# Obtendo a primeira cidade correspondente a cada CNPJ\n",
    "cidade_cnpj = df.groupby('CNPJ do Destinatario')['Cidade (CALC)'].first().reset_index()\n",
    "\n",
    "# Mesclando a informação da cidade com o DataFrame 'novo_df'\n",
    "novo_df = novo_df.merge(cidade_cnpj, on='CNPJ do Destinatario')"
   ]
  },
  {
   "cell_type": "code",
   "execution_count": 114,
   "metadata": {},
   "outputs": [
    {
     "data": {
      "text/html": [
       "<div>\n",
       "<style scoped>\n",
       "    .dataframe tbody tr th:only-of-type {\n",
       "        vertical-align: middle;\n",
       "    }\n",
       "\n",
       "    .dataframe tbody tr th {\n",
       "        vertical-align: top;\n",
       "    }\n",
       "\n",
       "    .dataframe thead th {\n",
       "        text-align: right;\n",
       "    }\n",
       "</style>\n",
       "<table border=\"1\" class=\"dataframe\">\n",
       "  <thead>\n",
       "    <tr style=\"text-align: right;\">\n",
       "      <th></th>\n",
       "      <th>CNPJ do Destinatario</th>\n",
       "      <th>1</th>\n",
       "      <th>2</th>\n",
       "      <th>3</th>\n",
       "      <th>4</th>\n",
       "      <th>5</th>\n",
       "      <th>6</th>\n",
       "      <th>7</th>\n",
       "      <th>8</th>\n",
       "      <th>9</th>\n",
       "      <th>...</th>\n",
       "      <th>45</th>\n",
       "      <th>46</th>\n",
       "      <th>47</th>\n",
       "      <th>48</th>\n",
       "      <th>49</th>\n",
       "      <th>50</th>\n",
       "      <th>51</th>\n",
       "      <th>52</th>\n",
       "      <th>Cidade (CALC)</th>\n",
       "      <th>Frequente</th>\n",
       "    </tr>\n",
       "  </thead>\n",
       "  <tbody>\n",
       "    <tr>\n",
       "      <th>0</th>\n",
       "      <td>716244900</td>\n",
       "      <td>0.0</td>\n",
       "      <td>0.0</td>\n",
       "      <td>0.0</td>\n",
       "      <td>0.0</td>\n",
       "      <td>0.0</td>\n",
       "      <td>0.0</td>\n",
       "      <td>0.0</td>\n",
       "      <td>0.0</td>\n",
       "      <td>0.0</td>\n",
       "      <td>...</td>\n",
       "      <td>0.0</td>\n",
       "      <td>0.0</td>\n",
       "      <td>0.0</td>\n",
       "      <td>0.0</td>\n",
       "      <td>0.0</td>\n",
       "      <td>0.0</td>\n",
       "      <td>0.0</td>\n",
       "      <td>0.0</td>\n",
       "      <td>PR-MARINGA</td>\n",
       "      <td>-1</td>\n",
       "    </tr>\n",
       "    <tr>\n",
       "      <th>1</th>\n",
       "      <td>788129414</td>\n",
       "      <td>0.0</td>\n",
       "      <td>0.0</td>\n",
       "      <td>0.0</td>\n",
       "      <td>0.0</td>\n",
       "      <td>0.0</td>\n",
       "      <td>0.0</td>\n",
       "      <td>0.0</td>\n",
       "      <td>0.0</td>\n",
       "      <td>0.0</td>\n",
       "      <td>...</td>\n",
       "      <td>0.0</td>\n",
       "      <td>0.0</td>\n",
       "      <td>0.0</td>\n",
       "      <td>0.0</td>\n",
       "      <td>0.0</td>\n",
       "      <td>0.0</td>\n",
       "      <td>0.0</td>\n",
       "      <td>0.0</td>\n",
       "      <td>None</td>\n",
       "      <td>-1</td>\n",
       "    </tr>\n",
       "    <tr>\n",
       "      <th>2</th>\n",
       "      <td>835704467</td>\n",
       "      <td>0.0</td>\n",
       "      <td>0.0</td>\n",
       "      <td>0.0</td>\n",
       "      <td>0.0</td>\n",
       "      <td>0.0</td>\n",
       "      <td>0.0</td>\n",
       "      <td>1.0</td>\n",
       "      <td>0.0</td>\n",
       "      <td>0.0</td>\n",
       "      <td>...</td>\n",
       "      <td>0.0</td>\n",
       "      <td>0.0</td>\n",
       "      <td>0.0</td>\n",
       "      <td>0.0</td>\n",
       "      <td>0.0</td>\n",
       "      <td>0.0</td>\n",
       "      <td>0.0</td>\n",
       "      <td>0.0</td>\n",
       "      <td>RN-NATAL</td>\n",
       "      <td>-1</td>\n",
       "    </tr>\n",
       "    <tr>\n",
       "      <th>3</th>\n",
       "      <td>982968507</td>\n",
       "      <td>0.0</td>\n",
       "      <td>0.0</td>\n",
       "      <td>0.0</td>\n",
       "      <td>0.0</td>\n",
       "      <td>0.0</td>\n",
       "      <td>0.0</td>\n",
       "      <td>0.0</td>\n",
       "      <td>0.0</td>\n",
       "      <td>0.0</td>\n",
       "      <td>...</td>\n",
       "      <td>0.0</td>\n",
       "      <td>0.0</td>\n",
       "      <td>0.0</td>\n",
       "      <td>0.0</td>\n",
       "      <td>0.0</td>\n",
       "      <td>0.0</td>\n",
       "      <td>0.0</td>\n",
       "      <td>0.0</td>\n",
       "      <td>BA-SALVADOR</td>\n",
       "      <td>-1</td>\n",
       "    </tr>\n",
       "    <tr>\n",
       "      <th>4</th>\n",
       "      <td>1117456676</td>\n",
       "      <td>0.0</td>\n",
       "      <td>0.0</td>\n",
       "      <td>0.0</td>\n",
       "      <td>0.0</td>\n",
       "      <td>0.0</td>\n",
       "      <td>0.0</td>\n",
       "      <td>0.0</td>\n",
       "      <td>0.0</td>\n",
       "      <td>0.0</td>\n",
       "      <td>...</td>\n",
       "      <td>0.0</td>\n",
       "      <td>0.0</td>\n",
       "      <td>0.0</td>\n",
       "      <td>0.0</td>\n",
       "      <td>0.0</td>\n",
       "      <td>0.0</td>\n",
       "      <td>0.0</td>\n",
       "      <td>0.0</td>\n",
       "      <td>MG-BELO HORIZONTE</td>\n",
       "      <td>-1</td>\n",
       "    </tr>\n",
       "    <tr>\n",
       "      <th>...</th>\n",
       "      <td>...</td>\n",
       "      <td>...</td>\n",
       "      <td>...</td>\n",
       "      <td>...</td>\n",
       "      <td>...</td>\n",
       "      <td>...</td>\n",
       "      <td>...</td>\n",
       "      <td>...</td>\n",
       "      <td>...</td>\n",
       "      <td>...</td>\n",
       "      <td>...</td>\n",
       "      <td>...</td>\n",
       "      <td>...</td>\n",
       "      <td>...</td>\n",
       "      <td>...</td>\n",
       "      <td>...</td>\n",
       "      <td>...</td>\n",
       "      <td>...</td>\n",
       "      <td>...</td>\n",
       "      <td>...</td>\n",
       "      <td>...</td>\n",
       "    </tr>\n",
       "    <tr>\n",
       "      <th>269</th>\n",
       "      <td>87958625000149</td>\n",
       "      <td>0.0</td>\n",
       "      <td>0.0</td>\n",
       "      <td>0.0</td>\n",
       "      <td>0.0</td>\n",
       "      <td>0.0</td>\n",
       "      <td>0.0</td>\n",
       "      <td>0.0</td>\n",
       "      <td>0.0</td>\n",
       "      <td>0.0</td>\n",
       "      <td>...</td>\n",
       "      <td>0.0</td>\n",
       "      <td>0.0</td>\n",
       "      <td>0.0</td>\n",
       "      <td>0.0</td>\n",
       "      <td>0.0</td>\n",
       "      <td>0.0</td>\n",
       "      <td>0.0</td>\n",
       "      <td>0.0</td>\n",
       "      <td>RS-PORTO ALEGRE</td>\n",
       "      <td>-1</td>\n",
       "    </tr>\n",
       "    <tr>\n",
       "      <th>270</th>\n",
       "      <td>88212113016014</td>\n",
       "      <td>0.0</td>\n",
       "      <td>4.0</td>\n",
       "      <td>2.0</td>\n",
       "      <td>1.0</td>\n",
       "      <td>5.0</td>\n",
       "      <td>6.0</td>\n",
       "      <td>7.0</td>\n",
       "      <td>6.0</td>\n",
       "      <td>1.0</td>\n",
       "      <td>...</td>\n",
       "      <td>2.0</td>\n",
       "      <td>4.0</td>\n",
       "      <td>4.0</td>\n",
       "      <td>5.0</td>\n",
       "      <td>3.0</td>\n",
       "      <td>3.0</td>\n",
       "      <td>0.0</td>\n",
       "      <td>0.0</td>\n",
       "      <td>RS-PASSO FUNDO</td>\n",
       "      <td>-1</td>\n",
       "    </tr>\n",
       "    <tr>\n",
       "      <th>271</th>\n",
       "      <td>88212113111947</td>\n",
       "      <td>0.0</td>\n",
       "      <td>0.0</td>\n",
       "      <td>0.0</td>\n",
       "      <td>0.0</td>\n",
       "      <td>0.0</td>\n",
       "      <td>0.0</td>\n",
       "      <td>0.0</td>\n",
       "      <td>0.0</td>\n",
       "      <td>0.0</td>\n",
       "      <td>...</td>\n",
       "      <td>0.0</td>\n",
       "      <td>0.0</td>\n",
       "      <td>0.0</td>\n",
       "      <td>0.0</td>\n",
       "      <td>0.0</td>\n",
       "      <td>0.0</td>\n",
       "      <td>0.0</td>\n",
       "      <td>0.0</td>\n",
       "      <td>RS-GRAVATAI</td>\n",
       "      <td>-1</td>\n",
       "    </tr>\n",
       "    <tr>\n",
       "      <th>272</th>\n",
       "      <td>92665611032290</td>\n",
       "      <td>3.0</td>\n",
       "      <td>2.0</td>\n",
       "      <td>6.0</td>\n",
       "      <td>7.0</td>\n",
       "      <td>9.0</td>\n",
       "      <td>10.0</td>\n",
       "      <td>11.0</td>\n",
       "      <td>7.0</td>\n",
       "      <td>9.0</td>\n",
       "      <td>...</td>\n",
       "      <td>11.0</td>\n",
       "      <td>4.0</td>\n",
       "      <td>13.0</td>\n",
       "      <td>6.0</td>\n",
       "      <td>6.0</td>\n",
       "      <td>4.0</td>\n",
       "      <td>0.0</td>\n",
       "      <td>0.0</td>\n",
       "      <td>RS-ELDORADO DO SUL</td>\n",
       "      <td>-1</td>\n",
       "    </tr>\n",
       "    <tr>\n",
       "      <th>273</th>\n",
       "      <td>92665611051162</td>\n",
       "      <td>2.0</td>\n",
       "      <td>2.0</td>\n",
       "      <td>9.0</td>\n",
       "      <td>7.0</td>\n",
       "      <td>6.0</td>\n",
       "      <td>8.0</td>\n",
       "      <td>12.0</td>\n",
       "      <td>6.0</td>\n",
       "      <td>9.0</td>\n",
       "      <td>...</td>\n",
       "      <td>8.0</td>\n",
       "      <td>2.0</td>\n",
       "      <td>9.0</td>\n",
       "      <td>5.0</td>\n",
       "      <td>1.0</td>\n",
       "      <td>4.0</td>\n",
       "      <td>0.0</td>\n",
       "      <td>0.0</td>\n",
       "      <td>PR-SAO JOSE DOS PINHAIS</td>\n",
       "      <td>-1</td>\n",
       "    </tr>\n",
       "  </tbody>\n",
       "</table>\n",
       "<p>274 rows × 55 columns</p>\n",
       "</div>"
      ],
      "text/plain": [
       "     CNPJ do Destinatario    1    2    3    4    5     6     7    8    9  ...  \\\n",
       "0               716244900  0.0  0.0  0.0  0.0  0.0   0.0   0.0  0.0  0.0  ...   \n",
       "1               788129414  0.0  0.0  0.0  0.0  0.0   0.0   0.0  0.0  0.0  ...   \n",
       "2               835704467  0.0  0.0  0.0  0.0  0.0   0.0   1.0  0.0  0.0  ...   \n",
       "3               982968507  0.0  0.0  0.0  0.0  0.0   0.0   0.0  0.0  0.0  ...   \n",
       "4              1117456676  0.0  0.0  0.0  0.0  0.0   0.0   0.0  0.0  0.0  ...   \n",
       "..                    ...  ...  ...  ...  ...  ...   ...   ...  ...  ...  ...   \n",
       "269        87958625000149  0.0  0.0  0.0  0.0  0.0   0.0   0.0  0.0  0.0  ...   \n",
       "270        88212113016014  0.0  4.0  2.0  1.0  5.0   6.0   7.0  6.0  1.0  ...   \n",
       "271        88212113111947  0.0  0.0  0.0  0.0  0.0   0.0   0.0  0.0  0.0  ...   \n",
       "272        92665611032290  3.0  2.0  6.0  7.0  9.0  10.0  11.0  7.0  9.0  ...   \n",
       "273        92665611051162  2.0  2.0  9.0  7.0  6.0   8.0  12.0  6.0  9.0  ...   \n",
       "\n",
       "       45   46    47   48   49   50   51   52            Cidade (CALC)  \\\n",
       "0     0.0  0.0   0.0  0.0  0.0  0.0  0.0  0.0               PR-MARINGA   \n",
       "1     0.0  0.0   0.0  0.0  0.0  0.0  0.0  0.0                     None   \n",
       "2     0.0  0.0   0.0  0.0  0.0  0.0  0.0  0.0                 RN-NATAL   \n",
       "3     0.0  0.0   0.0  0.0  0.0  0.0  0.0  0.0              BA-SALVADOR   \n",
       "4     0.0  0.0   0.0  0.0  0.0  0.0  0.0  0.0        MG-BELO HORIZONTE   \n",
       "..    ...  ...   ...  ...  ...  ...  ...  ...                      ...   \n",
       "269   0.0  0.0   0.0  0.0  0.0  0.0  0.0  0.0          RS-PORTO ALEGRE   \n",
       "270   2.0  4.0   4.0  5.0  3.0  3.0  0.0  0.0           RS-PASSO FUNDO   \n",
       "271   0.0  0.0   0.0  0.0  0.0  0.0  0.0  0.0              RS-GRAVATAI   \n",
       "272  11.0  4.0  13.0  6.0  6.0  4.0  0.0  0.0       RS-ELDORADO DO SUL   \n",
       "273   8.0  2.0   9.0  5.0  1.0  4.0  0.0  0.0  PR-SAO JOSE DOS PINHAIS   \n",
       "\n",
       "     Frequente  \n",
       "0           -1  \n",
       "1           -1  \n",
       "2           -1  \n",
       "3           -1  \n",
       "4           -1  \n",
       "..         ...  \n",
       "269         -1  \n",
       "270         -1  \n",
       "271         -1  \n",
       "272         -1  \n",
       "273         -1  \n",
       "\n",
       "[274 rows x 55 columns]"
      ]
     },
     "execution_count": 114,
     "metadata": {},
     "output_type": "execute_result"
    }
   ],
   "source": [
    "novo_df['Frequente'] = -1\n",
    "novo_df"
   ]
  },
  {
   "cell_type": "code",
   "execution_count": 115,
   "metadata": {},
   "outputs": [],
   "source": [
    "def analise_frequencia(df, threshold):\n",
    "    for indice, linha in df.iterrows():\n",
    "        count = -1\n",
    "        for coluna in df.columns:\n",
    "            if linha[coluna] != 0:\n",
    "                count += 1\n",
    "        if count > (threshold * 52):\n",
    "            df.loc[indice, 'Frequente'] = 1\n",
    "        else:\n",
    "            df.loc[indice, 'Frequente'] = 0\n",
    "    return df"
   ]
  },
  {
   "cell_type": "code",
   "execution_count": 116,
   "metadata": {},
   "outputs": [
    {
     "data": {
      "text/html": [
       "<div>\n",
       "<style scoped>\n",
       "    .dataframe tbody tr th:only-of-type {\n",
       "        vertical-align: middle;\n",
       "    }\n",
       "\n",
       "    .dataframe tbody tr th {\n",
       "        vertical-align: top;\n",
       "    }\n",
       "\n",
       "    .dataframe thead th {\n",
       "        text-align: right;\n",
       "    }\n",
       "</style>\n",
       "<table border=\"1\" class=\"dataframe\">\n",
       "  <thead>\n",
       "    <tr style=\"text-align: right;\">\n",
       "      <th></th>\n",
       "      <th>CNPJ do Destinatario</th>\n",
       "      <th>1</th>\n",
       "      <th>2</th>\n",
       "      <th>3</th>\n",
       "      <th>4</th>\n",
       "      <th>5</th>\n",
       "      <th>6</th>\n",
       "      <th>7</th>\n",
       "      <th>8</th>\n",
       "      <th>9</th>\n",
       "      <th>...</th>\n",
       "      <th>45</th>\n",
       "      <th>46</th>\n",
       "      <th>47</th>\n",
       "      <th>48</th>\n",
       "      <th>49</th>\n",
       "      <th>50</th>\n",
       "      <th>51</th>\n",
       "      <th>52</th>\n",
       "      <th>Cidade (CALC)</th>\n",
       "      <th>Frequente</th>\n",
       "    </tr>\n",
       "  </thead>\n",
       "  <tbody>\n",
       "    <tr>\n",
       "      <th>0</th>\n",
       "      <td>716244900</td>\n",
       "      <td>0.0</td>\n",
       "      <td>0.0</td>\n",
       "      <td>0.0</td>\n",
       "      <td>0.0</td>\n",
       "      <td>0.0</td>\n",
       "      <td>0.0</td>\n",
       "      <td>0.0</td>\n",
       "      <td>0.0</td>\n",
       "      <td>0.0</td>\n",
       "      <td>...</td>\n",
       "      <td>0.0</td>\n",
       "      <td>0.0</td>\n",
       "      <td>0.0</td>\n",
       "      <td>0.0</td>\n",
       "      <td>0.0</td>\n",
       "      <td>0.0</td>\n",
       "      <td>0.0</td>\n",
       "      <td>0.0</td>\n",
       "      <td>PR-MARINGA</td>\n",
       "      <td>0</td>\n",
       "    </tr>\n",
       "    <tr>\n",
       "      <th>1</th>\n",
       "      <td>788129414</td>\n",
       "      <td>0.0</td>\n",
       "      <td>0.0</td>\n",
       "      <td>0.0</td>\n",
       "      <td>0.0</td>\n",
       "      <td>0.0</td>\n",
       "      <td>0.0</td>\n",
       "      <td>0.0</td>\n",
       "      <td>0.0</td>\n",
       "      <td>0.0</td>\n",
       "      <td>...</td>\n",
       "      <td>0.0</td>\n",
       "      <td>0.0</td>\n",
       "      <td>0.0</td>\n",
       "      <td>0.0</td>\n",
       "      <td>0.0</td>\n",
       "      <td>0.0</td>\n",
       "      <td>0.0</td>\n",
       "      <td>0.0</td>\n",
       "      <td>None</td>\n",
       "      <td>0</td>\n",
       "    </tr>\n",
       "    <tr>\n",
       "      <th>2</th>\n",
       "      <td>835704467</td>\n",
       "      <td>0.0</td>\n",
       "      <td>0.0</td>\n",
       "      <td>0.0</td>\n",
       "      <td>0.0</td>\n",
       "      <td>0.0</td>\n",
       "      <td>0.0</td>\n",
       "      <td>1.0</td>\n",
       "      <td>0.0</td>\n",
       "      <td>0.0</td>\n",
       "      <td>...</td>\n",
       "      <td>0.0</td>\n",
       "      <td>0.0</td>\n",
       "      <td>0.0</td>\n",
       "      <td>0.0</td>\n",
       "      <td>0.0</td>\n",
       "      <td>0.0</td>\n",
       "      <td>0.0</td>\n",
       "      <td>0.0</td>\n",
       "      <td>RN-NATAL</td>\n",
       "      <td>0</td>\n",
       "    </tr>\n",
       "    <tr>\n",
       "      <th>3</th>\n",
       "      <td>982968507</td>\n",
       "      <td>0.0</td>\n",
       "      <td>0.0</td>\n",
       "      <td>0.0</td>\n",
       "      <td>0.0</td>\n",
       "      <td>0.0</td>\n",
       "      <td>0.0</td>\n",
       "      <td>0.0</td>\n",
       "      <td>0.0</td>\n",
       "      <td>0.0</td>\n",
       "      <td>...</td>\n",
       "      <td>0.0</td>\n",
       "      <td>0.0</td>\n",
       "      <td>0.0</td>\n",
       "      <td>0.0</td>\n",
       "      <td>0.0</td>\n",
       "      <td>0.0</td>\n",
       "      <td>0.0</td>\n",
       "      <td>0.0</td>\n",
       "      <td>BA-SALVADOR</td>\n",
       "      <td>0</td>\n",
       "    </tr>\n",
       "    <tr>\n",
       "      <th>4</th>\n",
       "      <td>1117456676</td>\n",
       "      <td>0.0</td>\n",
       "      <td>0.0</td>\n",
       "      <td>0.0</td>\n",
       "      <td>0.0</td>\n",
       "      <td>0.0</td>\n",
       "      <td>0.0</td>\n",
       "      <td>0.0</td>\n",
       "      <td>0.0</td>\n",
       "      <td>0.0</td>\n",
       "      <td>...</td>\n",
       "      <td>0.0</td>\n",
       "      <td>0.0</td>\n",
       "      <td>0.0</td>\n",
       "      <td>0.0</td>\n",
       "      <td>0.0</td>\n",
       "      <td>0.0</td>\n",
       "      <td>0.0</td>\n",
       "      <td>0.0</td>\n",
       "      <td>MG-BELO HORIZONTE</td>\n",
       "      <td>0</td>\n",
       "    </tr>\n",
       "    <tr>\n",
       "      <th>...</th>\n",
       "      <td>...</td>\n",
       "      <td>...</td>\n",
       "      <td>...</td>\n",
       "      <td>...</td>\n",
       "      <td>...</td>\n",
       "      <td>...</td>\n",
       "      <td>...</td>\n",
       "      <td>...</td>\n",
       "      <td>...</td>\n",
       "      <td>...</td>\n",
       "      <td>...</td>\n",
       "      <td>...</td>\n",
       "      <td>...</td>\n",
       "      <td>...</td>\n",
       "      <td>...</td>\n",
       "      <td>...</td>\n",
       "      <td>...</td>\n",
       "      <td>...</td>\n",
       "      <td>...</td>\n",
       "      <td>...</td>\n",
       "      <td>...</td>\n",
       "    </tr>\n",
       "    <tr>\n",
       "      <th>269</th>\n",
       "      <td>87958625000149</td>\n",
       "      <td>0.0</td>\n",
       "      <td>0.0</td>\n",
       "      <td>0.0</td>\n",
       "      <td>0.0</td>\n",
       "      <td>0.0</td>\n",
       "      <td>0.0</td>\n",
       "      <td>0.0</td>\n",
       "      <td>0.0</td>\n",
       "      <td>0.0</td>\n",
       "      <td>...</td>\n",
       "      <td>0.0</td>\n",
       "      <td>0.0</td>\n",
       "      <td>0.0</td>\n",
       "      <td>0.0</td>\n",
       "      <td>0.0</td>\n",
       "      <td>0.0</td>\n",
       "      <td>0.0</td>\n",
       "      <td>0.0</td>\n",
       "      <td>RS-PORTO ALEGRE</td>\n",
       "      <td>0</td>\n",
       "    </tr>\n",
       "    <tr>\n",
       "      <th>270</th>\n",
       "      <td>88212113016014</td>\n",
       "      <td>0.0</td>\n",
       "      <td>4.0</td>\n",
       "      <td>2.0</td>\n",
       "      <td>1.0</td>\n",
       "      <td>5.0</td>\n",
       "      <td>6.0</td>\n",
       "      <td>7.0</td>\n",
       "      <td>6.0</td>\n",
       "      <td>1.0</td>\n",
       "      <td>...</td>\n",
       "      <td>2.0</td>\n",
       "      <td>4.0</td>\n",
       "      <td>4.0</td>\n",
       "      <td>5.0</td>\n",
       "      <td>3.0</td>\n",
       "      <td>3.0</td>\n",
       "      <td>0.0</td>\n",
       "      <td>0.0</td>\n",
       "      <td>RS-PASSO FUNDO</td>\n",
       "      <td>1</td>\n",
       "    </tr>\n",
       "    <tr>\n",
       "      <th>271</th>\n",
       "      <td>88212113111947</td>\n",
       "      <td>0.0</td>\n",
       "      <td>0.0</td>\n",
       "      <td>0.0</td>\n",
       "      <td>0.0</td>\n",
       "      <td>0.0</td>\n",
       "      <td>0.0</td>\n",
       "      <td>0.0</td>\n",
       "      <td>0.0</td>\n",
       "      <td>0.0</td>\n",
       "      <td>...</td>\n",
       "      <td>0.0</td>\n",
       "      <td>0.0</td>\n",
       "      <td>0.0</td>\n",
       "      <td>0.0</td>\n",
       "      <td>0.0</td>\n",
       "      <td>0.0</td>\n",
       "      <td>0.0</td>\n",
       "      <td>0.0</td>\n",
       "      <td>RS-GRAVATAI</td>\n",
       "      <td>0</td>\n",
       "    </tr>\n",
       "    <tr>\n",
       "      <th>272</th>\n",
       "      <td>92665611032290</td>\n",
       "      <td>3.0</td>\n",
       "      <td>2.0</td>\n",
       "      <td>6.0</td>\n",
       "      <td>7.0</td>\n",
       "      <td>9.0</td>\n",
       "      <td>10.0</td>\n",
       "      <td>11.0</td>\n",
       "      <td>7.0</td>\n",
       "      <td>9.0</td>\n",
       "      <td>...</td>\n",
       "      <td>11.0</td>\n",
       "      <td>4.0</td>\n",
       "      <td>13.0</td>\n",
       "      <td>6.0</td>\n",
       "      <td>6.0</td>\n",
       "      <td>4.0</td>\n",
       "      <td>0.0</td>\n",
       "      <td>0.0</td>\n",
       "      <td>RS-ELDORADO DO SUL</td>\n",
       "      <td>1</td>\n",
       "    </tr>\n",
       "    <tr>\n",
       "      <th>273</th>\n",
       "      <td>92665611051162</td>\n",
       "      <td>2.0</td>\n",
       "      <td>2.0</td>\n",
       "      <td>9.0</td>\n",
       "      <td>7.0</td>\n",
       "      <td>6.0</td>\n",
       "      <td>8.0</td>\n",
       "      <td>12.0</td>\n",
       "      <td>6.0</td>\n",
       "      <td>9.0</td>\n",
       "      <td>...</td>\n",
       "      <td>8.0</td>\n",
       "      <td>2.0</td>\n",
       "      <td>9.0</td>\n",
       "      <td>5.0</td>\n",
       "      <td>1.0</td>\n",
       "      <td>4.0</td>\n",
       "      <td>0.0</td>\n",
       "      <td>0.0</td>\n",
       "      <td>PR-SAO JOSE DOS PINHAIS</td>\n",
       "      <td>1</td>\n",
       "    </tr>\n",
       "  </tbody>\n",
       "</table>\n",
       "<p>274 rows × 55 columns</p>\n",
       "</div>"
      ],
      "text/plain": [
       "     CNPJ do Destinatario    1    2    3    4    5     6     7    8    9  ...  \\\n",
       "0               716244900  0.0  0.0  0.0  0.0  0.0   0.0   0.0  0.0  0.0  ...   \n",
       "1               788129414  0.0  0.0  0.0  0.0  0.0   0.0   0.0  0.0  0.0  ...   \n",
       "2               835704467  0.0  0.0  0.0  0.0  0.0   0.0   1.0  0.0  0.0  ...   \n",
       "3               982968507  0.0  0.0  0.0  0.0  0.0   0.0   0.0  0.0  0.0  ...   \n",
       "4              1117456676  0.0  0.0  0.0  0.0  0.0   0.0   0.0  0.0  0.0  ...   \n",
       "..                    ...  ...  ...  ...  ...  ...   ...   ...  ...  ...  ...   \n",
       "269        87958625000149  0.0  0.0  0.0  0.0  0.0   0.0   0.0  0.0  0.0  ...   \n",
       "270        88212113016014  0.0  4.0  2.0  1.0  5.0   6.0   7.0  6.0  1.0  ...   \n",
       "271        88212113111947  0.0  0.0  0.0  0.0  0.0   0.0   0.0  0.0  0.0  ...   \n",
       "272        92665611032290  3.0  2.0  6.0  7.0  9.0  10.0  11.0  7.0  9.0  ...   \n",
       "273        92665611051162  2.0  2.0  9.0  7.0  6.0   8.0  12.0  6.0  9.0  ...   \n",
       "\n",
       "       45   46    47   48   49   50   51   52            Cidade (CALC)  \\\n",
       "0     0.0  0.0   0.0  0.0  0.0  0.0  0.0  0.0               PR-MARINGA   \n",
       "1     0.0  0.0   0.0  0.0  0.0  0.0  0.0  0.0                     None   \n",
       "2     0.0  0.0   0.0  0.0  0.0  0.0  0.0  0.0                 RN-NATAL   \n",
       "3     0.0  0.0   0.0  0.0  0.0  0.0  0.0  0.0              BA-SALVADOR   \n",
       "4     0.0  0.0   0.0  0.0  0.0  0.0  0.0  0.0        MG-BELO HORIZONTE   \n",
       "..    ...  ...   ...  ...  ...  ...  ...  ...                      ...   \n",
       "269   0.0  0.0   0.0  0.0  0.0  0.0  0.0  0.0          RS-PORTO ALEGRE   \n",
       "270   2.0  4.0   4.0  5.0  3.0  3.0  0.0  0.0           RS-PASSO FUNDO   \n",
       "271   0.0  0.0   0.0  0.0  0.0  0.0  0.0  0.0              RS-GRAVATAI   \n",
       "272  11.0  4.0  13.0  6.0  6.0  4.0  0.0  0.0       RS-ELDORADO DO SUL   \n",
       "273   8.0  2.0   9.0  5.0  1.0  4.0  0.0  0.0  PR-SAO JOSE DOS PINHAIS   \n",
       "\n",
       "     Frequente  \n",
       "0            0  \n",
       "1            0  \n",
       "2            0  \n",
       "3            0  \n",
       "4            0  \n",
       "..         ...  \n",
       "269          0  \n",
       "270          1  \n",
       "271          0  \n",
       "272          1  \n",
       "273          1  \n",
       "\n",
       "[274 rows x 55 columns]"
      ]
     },
     "execution_count": 116,
     "metadata": {},
     "output_type": "execute_result"
    }
   ],
   "source": [
    "novo_df = analise_frequencia(novo_df,0.8)\n",
    "novo_df"
   ]
  },
  {
   "cell_type": "code",
   "execution_count": 117,
   "metadata": {},
   "outputs": [
    {
     "data": {
      "text/plain": [
       "Frequente\n",
       "0    211\n",
       "1     63\n",
       "Name: count, dtype: int64"
      ]
     },
     "execution_count": 117,
     "metadata": {},
     "output_type": "execute_result"
    }
   ],
   "source": [
    "novo_df['Frequente'].value_counts()"
   ]
  },
  {
   "cell_type": "code",
   "execution_count": 118,
   "metadata": {},
   "outputs": [],
   "source": [
    "novo_df = novo_df[novo_df['Frequente']==1]"
   ]
  },
  {
   "cell_type": "code",
   "execution_count": 138,
   "metadata": {},
   "outputs": [],
   "source": [
    "def contagem_pedido(CNPJ_alvo):\n",
    "    meses = list(range(1, 13)) \n",
    "    semanas = list(range(1,52))\n",
    "    df = frete[frete['CNPJ do Destinatario'] == CNPJ_alvo]\n",
    "    df = df[['Data Emissão Nota Fiscal', 'Nota Fiscal', 'CNPJ do Destinatario']]\n",
    "    df['Mes'] = df['Data Emissão Nota Fiscal'].dt.month \n",
    "    contagem_por_mes = df['Mes'].value_counts().sort_index()\n",
    "    # Reindexe a contagem por semana para incluir todas as semanas possíveis e atribua 0 às semanas ausentes\n",
    "    contagem_por_mes = contagem_por_mes.reindex(meses, fill_value=0)\n",
    "    df['semana'] = df['Data Emissão Nota Fiscal'].dt.isocalendar().week \n",
    "    contagem_por_semana = df['semana'].value_counts().sort_index()\n",
    "    # Reindexe a contagem por semana para incluir todas as semanas possíveis e atribua 0 às semanas ausentes\n",
    "    contagem_por_semana = contagem_por_semana.reindex(semanas, fill_value=0)\n",
    "\n",
    "    \"\"\"\n",
    "    # Cria o gráfico de linha\n",
    "    plt.figure(figsize=(8, 6))\n",
    "    plt.plot(meses, contagem_por_mes, marker='o', linestyle='-', color='blue')\n",
    "    plt.title('Contagem de pedidos por mês')\n",
    "    plt.xlabel('Mês')\n",
    "    plt.ylabel('Quantidade de pedidos')\n",
    "    plt.grid(True)\n",
    "    plt.xticks(meses)\n",
    "    plt.tight_layout()\n",
    "\n",
    "    # Mostra o gráfico\n",
    "    plt.show()\n",
    "    \"\"\"\n",
    "\n",
    "    # Cria o gráfico de linha\n",
    "    plt.figure(figsize=(8, 6))\n",
    "    plt.plot(semanas, contagem_por_semana, marker='o', linestyle='-', color='blue')\n",
    "    plt.title('Contagem de pedidos por semana')\n",
    "    plt.xlabel('Semana')\n",
    "    plt.ylabel('Quantidade de pedidos')\n",
    "    plt.grid(True)\n",
    "    plt.xticks(semanas)\n",
    "    plt.tight_layout()\n",
    "\n",
    "    # Mostra o gráfico\n",
    "    plt.show()"
   ]
  },
  {
   "cell_type": "code",
   "execution_count": 141,
   "metadata": {},
   "outputs": [
    {
     "data": {
      "image/png": "[encoded data removed]",
      "text/plain": [
       "<Figure size 800x600 with 1 Axes>"
      ]
     },
     "metadata": {},
     "output_type": "display_data"
    },
    {
     "data": {
      "image/png": "[encoded data removed]",
      "text/plain": [
       "<Figure size 800x600 with 1 Axes>"
      ]
     },
     "metadata": {},
     "output_type": "display_data"
    }
   ],
   "source": [
    "contagem_pedido(61940292005872)\n",
    "contagem_pedido(45453214003177)"
   ]
  },
  {
   "cell_type": "code",
   "execution_count": 120,
   "metadata": {},
   "outputs": [
    {
     "name": "stderr",
     "output_type": "stream",
     "text": [
      "C:\\Users\\berna\\AppData\\Local\\Temp\\ipykernel_2852\\3382793830.py:1: SettingWithCopyWarning:\n",
      "\n",
      "\n",
      "A value is trying to be set on a copy of a slice from a DataFrame.\n",
      "Try using .loc[row_indexer,col_indexer] = value instead\n",
      "\n",
      "See the caveats in the documentation: https://pandas.pydata.org/pandas-docs/stable/user_guide/indexing.html#returning-a-view-versus-a-copy\n",
      "\n"
     ]
    },
    {
     "data": {
      "text/plain": [
       "139                CONTAGEM\n",
       "140                CAMACARI\n",
       "141                CURITIBA\n",
       "142            CACHOEIRINHA\n",
       "143                  RECIFE\n",
       "               ...         \n",
       "253                  MANAUS\n",
       "259                 COLOMBO\n",
       "270             PASSO FUNDO\n",
       "272         ELDORADO DO SUL\n",
       "273    SAO JOSE DOS PINHAIS\n",
       "Name: Cidade (CALC), Length: 63, dtype: object"
      ]
     },
     "execution_count": 120,
     "metadata": {},
     "output_type": "execute_result"
    }
   ],
   "source": [
    "novo_df[\"Cidade (CALC)\"] = novo_df[\"Cidade (CALC)\"].str.replace(r'^[A-Z]+-', '', regex=True)\n",
    "novo_df['Cidade (CALC)']"
   ]
  },
  {
   "cell_type": "code",
   "execution_count": 97,
   "metadata": {},
   "outputs": [],
   "source": [
    "municipio = read_municipality(code_muni=\"all\", year=2022)"
   ]
  },
  {
   "cell_type": "code",
   "execution_count": 121,
   "metadata": {},
   "outputs": [
    {
     "name": "stderr",
     "output_type": "stream",
     "text": [
      "C:\\Users\\berna\\AppData\\Local\\Temp\\ipykernel_2852\\3720570043.py:21: SettingWithCopyWarning:\n",
      "\n",
      "\n",
      "A value is trying to be set on a copy of a slice from a DataFrame.\n",
      "Try using .loc[row_indexer,col_indexer] = value instead\n",
      "\n",
      "See the caveats in the documentation: https://pandas.pydata.org/pandas-docs/stable/user_guide/indexing.html#returning-a-view-versus-a-copy\n",
      "\n",
      "C:\\Users\\berna\\AppData\\Local\\Temp\\ipykernel_2852\\3720570043.py:22: SettingWithCopyWarning:\n",
      "\n",
      "\n",
      "A value is trying to be set on a copy of a slice from a DataFrame.\n",
      "Try using .loc[row_indexer,col_indexer] = value instead\n",
      "\n",
      "See the caveats in the documentation: https://pandas.pydata.org/pandas-docs/stable/user_guide/indexing.html#returning-a-view-versus-a-copy\n",
      "\n"
     ]
    }
   ],
   "source": [
    "def padronizar_nome(nome):\n",
    "    # Remove a acentuação e converte para maiúsculas\n",
    "    return unidecode(nome).upper()\n",
    "\n",
    "def obter_lat_long(df, cidade_col, lat_col, long_col, cache):\n",
    "    for index, row in df.iterrows():\n",
    "        cidade = row[cidade_col]\n",
    "\n",
    "        if cidade in cache:\n",
    "            latitude, longitude = cache[cidade]\n",
    "            df.at[index, lat_col] = latitude\n",
    "            df.at[index, long_col] = longitude\n",
    "        else:\n",
    "          try:\n",
    "              # Use .loc para filtrar com base no nome da cidade\n",
    "              linha = municipio.loc[municipio['name_muni'].apply(padronizar_nome) == cidade]\n",
    "\n",
    "              if not linha.empty:\n",
    "                  cidade_geometry = linha[\"geometry\"].iloc[0]  # Assume que há apenas uma linha correspondente\n",
    "                  latitude, longitude = cidade_geometry.centroid.y, cidade_geometry.centroid.x\n",
    "                  df.at[index, lat_col] = latitude\n",
    "                  df.at[index, long_col] = longitude\n",
    "                  cache[cidade] = (latitude, longitude)  # Armazena no cache para evitar recálculo\n",
    "              else:\n",
    "                  print(f\"Coordenadas não encontradas para {cidade}\")\n",
    "          except Exception as e:\n",
    "              print(f\"Erro na solicitação para {cidade}: {e}\")\n",
    "\n",
    "# Adicionando a coluna 'Cidades' ao DataFrame\n",
    "\n",
    "# Coordenadas_cache\n",
    "coordenadas_cache = {}  # Dicionário para armazenar as coordenadas já calculadas\n",
    "\n",
    "# Obtendo latitude e longitude usando geopandas e geobr\n",
    "obter_lat_long(novo_df, 'Cidade (CALC)', 'lat', 'long', coordenadas_cache)"
   ]
  },
  {
   "cell_type": "code",
   "execution_count": 122,
   "metadata": {},
   "outputs": [],
   "source": [
    "# Remoção de linhas com latitudes ou longitudes iguais a zero\n",
    "novo_df = novo_df[(novo_df[\"lat\"] != 0) & (novo_df[\"long\"] != 0)]\n",
    "\n",
    "# Seleção das colunas de latitude e longitude\n",
    "coordenadas = novo_df[['lat', 'long', 'CNPJ do Destinatario']]"
   ]
  },
  {
   "cell_type": "code",
   "execution_count": 123,
   "metadata": {},
   "outputs": [
    {
     "data": {
      "text/html": [
       "<div>\n",
       "<style scoped>\n",
       "    .dataframe tbody tr th:only-of-type {\n",
       "        vertical-align: middle;\n",
       "    }\n",
       "\n",
       "    .dataframe tbody tr th {\n",
       "        vertical-align: top;\n",
       "    }\n",
       "\n",
       "    .dataframe thead th {\n",
       "        text-align: right;\n",
       "    }\n",
       "</style>\n",
       "<table border=\"1\" class=\"dataframe\">\n",
       "  <thead>\n",
       "    <tr style=\"text-align: right;\">\n",
       "      <th></th>\n",
       "      <th>lat</th>\n",
       "      <th>long</th>\n",
       "      <th>CNPJ do Destinatario</th>\n",
       "    </tr>\n",
       "  </thead>\n",
       "  <tbody>\n",
       "    <tr>\n",
       "      <th>139</th>\n",
       "      <td>-19.887197</td>\n",
       "      <td>-44.083959</td>\n",
       "      <td>1206820000369</td>\n",
       "    </tr>\n",
       "    <tr>\n",
       "      <th>140</th>\n",
       "      <td>-12.666008</td>\n",
       "      <td>-38.206233</td>\n",
       "      <td>1206820000873</td>\n",
       "    </tr>\n",
       "    <tr>\n",
       "      <th>141</th>\n",
       "      <td>-25.477906</td>\n",
       "      <td>-49.288250</td>\n",
       "      <td>1206820000954</td>\n",
       "    </tr>\n",
       "    <tr>\n",
       "      <th>142</th>\n",
       "      <td>-6.089973</td>\n",
       "      <td>-47.841338</td>\n",
       "      <td>1206820001098</td>\n",
       "    </tr>\n",
       "    <tr>\n",
       "      <th>143</th>\n",
       "      <td>-8.039206</td>\n",
       "      <td>-34.933053</td>\n",
       "      <td>1206820001179</td>\n",
       "    </tr>\n",
       "    <tr>\n",
       "      <th>...</th>\n",
       "      <td>...</td>\n",
       "      <td>...</td>\n",
       "      <td>...</td>\n",
       "    </tr>\n",
       "    <tr>\n",
       "      <th>253</th>\n",
       "      <td>-2.626007</td>\n",
       "      <td>-60.259577</td>\n",
       "      <td>61940292006682</td>\n",
       "    </tr>\n",
       "    <tr>\n",
       "      <th>259</th>\n",
       "      <td>-25.306310</td>\n",
       "      <td>-49.188007</td>\n",
       "      <td>79430682025540</td>\n",
       "    </tr>\n",
       "    <tr>\n",
       "      <th>270</th>\n",
       "      <td>-28.268902</td>\n",
       "      <td>-52.452522</td>\n",
       "      <td>88212113016014</td>\n",
       "    </tr>\n",
       "    <tr>\n",
       "      <th>272</th>\n",
       "      <td>-30.078130</td>\n",
       "      <td>-51.499123</td>\n",
       "      <td>92665611032290</td>\n",
       "    </tr>\n",
       "    <tr>\n",
       "      <th>273</th>\n",
       "      <td>-25.664365</td>\n",
       "      <td>-49.094952</td>\n",
       "      <td>92665611051162</td>\n",
       "    </tr>\n",
       "  </tbody>\n",
       "</table>\n",
       "<p>63 rows × 3 columns</p>\n",
       "</div>"
      ],
      "text/plain": [
       "           lat       long  CNPJ do Destinatario\n",
       "139 -19.887197 -44.083959         1206820000369\n",
       "140 -12.666008 -38.206233         1206820000873\n",
       "141 -25.477906 -49.288250         1206820000954\n",
       "142  -6.089973 -47.841338         1206820001098\n",
       "143  -8.039206 -34.933053         1206820001179\n",
       "..         ...        ...                   ...\n",
       "253  -2.626007 -60.259577        61940292006682\n",
       "259 -25.306310 -49.188007        79430682025540\n",
       "270 -28.268902 -52.452522        88212113016014\n",
       "272 -30.078130 -51.499123        92665611032290\n",
       "273 -25.664365 -49.094952        92665611051162\n",
       "\n",
       "[63 rows x 3 columns]"
      ]
     },
     "execution_count": 123,
     "metadata": {},
     "output_type": "execute_result"
    }
   ],
   "source": [
    "coordenadas"
   ]
  },
  {
   "cell_type": "code",
   "execution_count": 126,
   "metadata": {},
   "outputs": [
    {
     "name": "stderr",
     "output_type": "stream",
     "text": [
      "c:\\Users\\berna\\AppData\\Local\\Programs\\Python\\Python311\\Lib\\site-packages\\geopandas\\geodataframe.py:34: ShapelyDeprecationWarning:\n",
      "\n",
      "The array interface is deprecated and will no longer work in Shapely 2.0. Convert the '.coords' to a numpy array instead.\n",
      "\n"
     ]
    },
    {
     "data": {
      "application/vnd.plotly.v1+json": {
       "config": {
        "plotlyServerURL": "https://plot.ly"
       },
       "data": [
        {
         "geo": "geo",
         "hovertemplate": "CNPJ do Destinatario=%{text}<br>lat=%{lat}<br>long=%{lon}<extra></extra>",
         "lat": [
          -19.887196673449598,
          -12.666007567035694,
          -25.477905532581822,
          -6.089972711115453,
          -8.039206008129353,
          -3.7857406777014666,
          -9.522510035916785,
          -1.339594228749123,
          -3.9764638236593473,
          -1.339594228749123,
          -2.633689224407172,
          -3.7857406777014666,
          -29.21302612390726,
          -27.771810592392665,
          -3.7857406777014666,
          -8.152172444582037,
          -12.76762139906898,
          -19.887196673449598,
          -3.7857406777014666,
          -5.185607431753648,
          -5.803177776099438,
          -7.263563261606691,
          -12.19306596161033,
          -8.152172444582037,
          -1.2685470446735305,
          -5.102547452732077,
          -5.339724361126545,
          -8.039206008129353,
          -6.037031381223779,
          -19.887196673449598,
          -3.7857406777014666,
          -19.887196673449598,
          -19.902695855649238,
          -19.77952882602283,
          -19.887196673449598,
          -25.477905532581822,
          -12.666007567035694,
          -8.152172444582037,
          -9.522510035916785,
          -29.912246754313937,
          -7.165460299891077,
          -5.914278212777796,
          -20.43400356492728,
          -12.863593169994402,
          -19.887196673449598,
          -25.664365499641303,
          -8.152172444582037,
          -12.873591180201698,
          -3.8745094101672244,
          -29.889467649603684,
          -25.477905532581822,
          -19.902695855649238,
          -6.089972711115453,
          -12.666007567035694,
          -8.152172444582037,
          -27.578490144993676,
          -7.263563261606691,
          -6.064021689474193,
          -2.6260072542451494,
          -25.30631044584434,
          -28.268902008182465,
          -30.078130446153086,
          -25.664365499641303
         ],
         "legendgroup": "",
         "lon": [
          -44.08395856781798,
          -38.206232551902275,
          -49.2882499966116,
          -47.84133817398722,
          -34.93305302131524,
          -38.52802530409316,
          -35.71140923902294,
          -48.27563952047116,
          -38.39392702727342,
          -48.27563952047116,
          -44.28089564470529,
          -38.52802530409316,
          -51.921837555171166,
          -48.66172876858638,
          -38.52802530409316,
          -35.00324122938594,
          -38.40071020674323,
          -44.08395856781798,
          -38.52802530409316,
          -42.98106713204332,
          -35.22868107365814,
          -35.965571397231514,
          -39.033951770886254,
          -35.00324122938594,
          -47.877061279244536,
          -42.74060474973106,
          -47.575192793861255,
          -34.93305302131524,
          -35.43550984651108,
          -44.08395856781798,
          -38.52802530409316,
          -44.08395856781798,
          -43.9599685469249,
          -44.07187017749613,
          -44.08395856781798,
          -49.2882499966116,
          -38.206232551902275,
          -35.00324122938594,
          -35.71140923902294,
          -51.17958586366751,
          -34.86945780813023,
          -35.23001637284428,
          -40.37809486952763,
          -38.32709211279624,
          -44.08395856781798,
          -49.0949517134014,
          -35.00324122938594,
          -38.51452553818653,
          -38.627085651066736,
          -50.94707069224238,
          -49.2882499966116,
          -43.9599685469249,
          -47.84133817398722,
          -38.206232551902275,
          -35.00324122938594,
          -48.656244145646085,
          -35.965571397231514,
          -35.28937211145711,
          -60.259576500155774,
          -49.188007224233665,
          -52.4525220839353,
          -51.49912303496346,
          -49.0949517134014
         ],
         "marker": {
          "color": "#636efa",
          "symbol": "circle"
         },
         "mode": "markers+text",
         "name": "",
         "showlegend": false,
         "text": [
          1206820000369,
          1206820000873,
          1206820000954,
          1206820001098,
          1206820001179,
          1206820001411,
          1206820002493,
          1206820002655,
          4899316025293,
          4899316034284,
          4899316035175,
          5106015000152,
          5782733000149,
          5782733000300,
          6626253012400,
          6626253063315,
          6626253087508,
          6626253119809,
          7224991000135,
          7224991000640,
          7224991000801,
          7224991000992,
          7224991001026,
          7224991001298,
          7224991001379,
          7224991001530,
          7224991001700,
          7484373000124,
          7752236000123,
          17256512002917,
          21595464000168,
          33438250044539,
          42799163000126,
          44463156002128,
          45453214002014,
          45453214002286,
          45453214002529,
          45453214002790,
          45453214002952,
          45453214003177,
          45453214003681,
          45453214003843,
          56998701003301,
          61412110062002,
          61585865040960,
          61585865065440,
          61585865134000,
          61585865163298,
          61585865212841,
          61585865242244,
          61940292000218,
          61940292001290,
          61940292004710,
          61940292005520,
          61940292005600,
          61940292005872,
          61940292006410,
          61940292006500,
          61940292006682,
          79430682025540,
          88212113016014,
          92665611032290,
          92665611051162
         ],
         "type": "scattergeo"
        }
       ],
       "layout": {
        "geo": {
         "center": {},
         "coastlinecolor": "black",
         "domain": {
          "x": [
           0,
           1
          ],
          "y": [
           0,
           1
          ]
         },
         "landcolor": "lightgray",
         "projection": {
          "scale": 7,
          "type": "natural earth"
         },
         "resolution": 50,
         "showcoastlines": true,
         "showcountries": true,
         "showland": true
        },
        "legend": {
         "tracegroupgap": 0
        },
        "margin": {
         "b": 0,
         "l": 0,
         "r": 0,
         "t": 40
        },
        "showlegend": true,
        "template": {
         "data": {
          "bar": [
           {
            "error_x": {
             "color": "#2a3f5f"
            },
            "error_y": {
             "color": "#2a3f5f"
            },
            "marker": {
             "line": {
              "color": "#E5ECF6",
              "width": 0.5
             },
             "pattern": {
              "fillmode": "overlay",
              "size": 10,
              "solidity": 0.2
             }
            },
            "type": "bar"
           }
          ],
          "barpolar": [
           {
            "marker": {
             "line": {
              "color": "#E5ECF6",
              "width": 0.5
             },
             "pattern": {
              "fillmode": "overlay",
              "size": 10,
              "solidity": 0.2
             }
            },
            "type": "barpolar"
           }
          ],
          "carpet": [
           {
            "aaxis": {
             "endlinecolor": "#2a3f5f",
             "gridcolor": "white",
             "linecolor": "white",
             "minorgridcolor": "white",
             "startlinecolor": "#2a3f5f"
            },
            "baxis": {
             "endlinecolor": "#2a3f5f",
             "gridcolor": "white",
             "linecolor": "white",
             "minorgridcolor": "white",
             "startlinecolor": "#2a3f5f"
            },
            "type": "carpet"
           }
          ],
          "choropleth": [
           {
            "colorbar": {
             "outlinewidth": 0,
             "ticks": ""
            },
            "type": "choropleth"
           }
          ],
          "contour": [
           {
            "colorbar": {
             "outlinewidth": 0,
             "ticks": ""
            },
            "colorscale": [
             [
              0,
              "#0d0887"
             ],
             [
              0.1111111111111111,
              "#46039f"
             ],
             [
              0.2222222222222222,
              "#7201a8"
             ],
             [
              0.3333333333333333,
              "#9c179e"
             ],
             [
              0.4444444444444444,
              "#bd3786"
             ],
             [
              0.5555555555555556,
              "#d8576b"
             ],
             [
              0.6666666666666666,
              "#ed7953"
             ],
             [
              0.7777777777777778,
              "#fb9f3a"
             ],
             [
              0.8888888888888888,
              "#fdca26"
             ],
             [
              1,
              "#f0f921"
             ]
            ],
            "type": "contour"
           }
          ],
          "contourcarpet": [
           {
            "colorbar": {
             "outlinewidth": 0,
             "ticks": ""
            },
            "type": "contourcarpet"
           }
          ],
          "heatmap": [
           {
            "colorbar": {
             "outlinewidth": 0,
             "ticks": ""
            },
            "colorscale": [
             [
              0,
              "#0d0887"
             ],
             [
              0.1111111111111111,
              "#46039f"
             ],
             [
              0.2222222222222222,
              "#7201a8"
             ],
             [
              0.3333333333333333,
              "#9c179e"
             ],
             [
              0.4444444444444444,
              "#bd3786"
             ],
             [
              0.5555555555555556,
              "#d8576b"
             ],
             [
              0.6666666666666666,
              "#ed7953"
             ],
             [
              0.7777777777777778,
              "#fb9f3a"
             ],
             [
              0.8888888888888888,
              "#fdca26"
             ],
             [
              1,
              "#f0f921"
             ]
            ],
            "type": "heatmap"
           }
          ],
          "heatmapgl": [
           {
            "colorbar": {
             "outlinewidth": 0,
             "ticks": ""
            },
            "colorscale": [
             [
              0,
              "#0d0887"
             ],
             [
              0.1111111111111111,
              "#46039f"
             ],
             [
              0.2222222222222222,
              "#7201a8"
             ],
             [
              0.3333333333333333,
              "#9c179e"
             ],
             [
              0.4444444444444444,
              "#bd3786"
             ],
             [
              0.5555555555555556,
              "#d8576b"
             ],
             [
              0.6666666666666666,
              "#ed7953"
             ],
             [
              0.7777777777777778,
              "#fb9f3a"
             ],
             [
              0.8888888888888888,
              "#fdca26"
             ],
             [
              1,
              "#f0f921"
             ]
            ],
            "type": "heatmapgl"
           }
          ],
          "histogram": [
           {
            "marker": {
             "pattern": {
              "fillmode": "overlay",
              "size": 10,
              "solidity": 0.2
             }
            },
            "type": "histogram"
           }
          ],
          "histogram2d": [
           {
            "colorbar": {
             "outlinewidth": 0,
             "ticks": ""
            },
            "colorscale": [
             [
              0,
              "#0d0887"
             ],
             [
              0.1111111111111111,
              "#46039f"
             ],
             [
              0.2222222222222222,
              "#7201a8"
             ],
             [
              0.3333333333333333,
              "#9c179e"
             ],
             [
              0.4444444444444444,
              "#bd3786"
             ],
             [
              0.5555555555555556,
              "#d8576b"
             ],
             [
              0.6666666666666666,
              "#ed7953"
             ],
             [
              0.7777777777777778,
              "#fb9f3a"
             ],
             [
              0.8888888888888888,
              "#fdca26"
             ],
             [
              1,
              "#f0f921"
             ]
            ],
            "type": "histogram2d"
           }
          ],
          "histogram2dcontour": [
           {
            "colorbar": {
             "outlinewidth": 0,
             "ticks": ""
            },
            "colorscale": [
             [
              0,
              "#0d0887"
             ],
             [
              0.1111111111111111,
              "#46039f"
             ],
             [
              0.2222222222222222,
              "#7201a8"
             ],
             [
              0.3333333333333333,
              "#9c179e"
             ],
             [
              0.4444444444444444,
              "#bd3786"
             ],
             [
              0.5555555555555556,
              "#d8576b"
             ],
             [
              0.6666666666666666,
              "#ed7953"
             ],
             [
              0.7777777777777778,
              "#fb9f3a"
             ],
             [
              0.8888888888888888,
              "#fdca26"
             ],
             [
              1,
              "#f0f921"
             ]
            ],
            "type": "histogram2dcontour"
           }
          ],
          "mesh3d": [
           {
            "colorbar": {
             "outlinewidth": 0,
             "ticks": ""
            },
            "type": "mesh3d"
           }
          ],
          "parcoords": [
           {
            "line": {
             "colorbar": {
              "outlinewidth": 0,
              "ticks": ""
             }
            },
            "type": "parcoords"
           }
          ],
          "pie": [
           {
            "automargin": true,
            "type": "pie"
           }
          ],
          "scatter": [
           {
            "fillpattern": {
             "fillmode": "overlay",
             "size": 10,
             "solidity": 0.2
            },
            "type": "scatter"
           }
          ],
          "scatter3d": [
           {
            "line": {
             "colorbar": {
              "outlinewidth": 0,
              "ticks": ""
             }
            },
            "marker": {
             "colorbar": {
              "outlinewidth": 0,
              "ticks": ""
             }
            },
            "type": "scatter3d"
           }
          ],
          "scattercarpet": [
           {
            "marker": {
             "colorbar": {
              "outlinewidth": 0,
              "ticks": ""
             }
            },
            "type": "scattercarpet"
           }
          ],
          "scattergeo": [
           {
            "marker": {
             "colorbar": {
              "outlinewidth": 0,
              "ticks": ""
             }
            },
            "type": "scattergeo"
           }
          ],
          "scattergl": [
           {
            "marker": {
             "colorbar": {
              "outlinewidth": 0,
              "ticks": ""
             }
            },
            "type": "scattergl"
           }
          ],
          "scattermapbox": [
           {
            "marker": {
             "colorbar": {
              "outlinewidth": 0,
              "ticks": ""
             }
            },
            "type": "scattermapbox"
           }
          ],
          "scatterpolar": [
           {
            "marker": {
             "colorbar": {
              "outlinewidth": 0,
              "ticks": ""
             }
            },
            "type": "scatterpolar"
           }
          ],
          "scatterpolargl": [
           {
            "marker": {
             "colorbar": {
              "outlinewidth": 0,
              "ticks": ""
             }
            },
            "type": "scatterpolargl"
           }
          ],
          "scatterternary": [
           {
            "marker": {
             "colorbar": {
              "outlinewidth": 0,
              "ticks": ""
             }
            },
            "type": "scatterternary"
           }
          ],
          "surface": [
           {
            "colorbar": {
             "outlinewidth": 0,
             "ticks": ""
            },
            "colorscale": [
             [
              0,
              "#0d0887"
             ],
             [
              0.1111111111111111,
              "#46039f"
             ],
             [
              0.2222222222222222,
              "#7201a8"
             ],
             [
              0.3333333333333333,
              "#9c179e"
             ],
             [
              0.4444444444444444,
              "#bd3786"
             ],
             [
              0.5555555555555556,
              "#d8576b"
             ],
             [
              0.6666666666666666,
              "#ed7953"
             ],
             [
              0.7777777777777778,
              "#fb9f3a"
             ],
             [
              0.8888888888888888,
              "#fdca26"
             ],
             [
              1,
              "#f0f921"
             ]
            ],
            "type": "surface"
           }
          ],
          "table": [
           {
            "cells": {
             "fill": {
              "color": "#EBF0F8"
             },
             "line": {
              "color": "white"
             }
            },
            "header": {
             "fill": {
              "color": "#C8D4E3"
             },
             "line": {
              "color": "white"
             }
            },
            "type": "table"
           }
          ]
         },
         "layout": {
          "annotationdefaults": {
           "arrowcolor": "#2a3f5f",
           "arrowhead": 0,
           "arrowwidth": 1
          },
          "autotypenumbers": "strict",
          "coloraxis": {
           "colorbar": {
            "outlinewidth": 0,
            "ticks": ""
           }
          },
          "colorscale": {
           "diverging": [
            [
             0,
             "#8e0152"
            ],
            [
             0.1,
             "#c51b7d"
            ],
            [
             0.2,
             "#de77ae"
            ],
            [
             0.3,
             "#f1b6da"
            ],
            [
             0.4,
             "#fde0ef"
            ],
            [
             0.5,
             "#f7f7f7"
            ],
            [
             0.6,
             "#e6f5d0"
            ],
            [
             0.7,
             "#b8e186"
            ],
            [
             0.8,
             "#7fbc41"
            ],
            [
             0.9,
             "#4d9221"
            ],
            [
             1,
             "#276419"
            ]
           ],
           "sequential": [
            [
             0,
             "#0d0887"
            ],
            [
             0.1111111111111111,
             "#46039f"
            ],
            [
             0.2222222222222222,
             "#7201a8"
            ],
            [
             0.3333333333333333,
             "#9c179e"
            ],
            [
             0.4444444444444444,
             "#bd3786"
            ],
            [
             0.5555555555555556,
             "#d8576b"
            ],
            [
             0.6666666666666666,
             "#ed7953"
            ],
            [
             0.7777777777777778,
             "#fb9f3a"
            ],
            [
             0.8888888888888888,
             "#fdca26"
            ],
            [
             1,
             "#f0f921"
            ]
           ],
           "sequentialminus": [
            [
             0,
             "#0d0887"
            ],
            [
             0.1111111111111111,
             "#46039f"
            ],
            [
             0.2222222222222222,
             "#7201a8"
            ],
            [
             0.3333333333333333,
             "#9c179e"
            ],
            [
             0.4444444444444444,
             "#bd3786"
            ],
            [
             0.5555555555555556,
             "#d8576b"
            ],
            [
             0.6666666666666666,
             "#ed7953"
            ],
            [
             0.7777777777777778,
             "#fb9f3a"
            ],
            [
             0.8888888888888888,
             "#fdca26"
            ],
            [
             1,
             "#f0f921"
            ]
           ]
          },
          "colorway": [
           "#636efa",
           "#EF553B",
           "#00cc96",
           "#ab63fa",
           "#FFA15A",
           "#19d3f3",
           "#FF6692",
           "#B6E880",
           "#FF97FF",
           "#FECB52"
          ],
          "font": {
           "color": "#2a3f5f"
          },
          "geo": {
           "bgcolor": "white",
           "lakecolor": "white",
           "landcolor": "#E5ECF6",
           "showlakes": true,
           "showland": true,
           "subunitcolor": "white"
          },
          "hoverlabel": {
           "align": "left"
          },
          "hovermode": "closest",
          "mapbox": {
           "style": "light"
          },
          "paper_bgcolor": "white",
          "plot_bgcolor": "#E5ECF6",
          "polar": {
           "angularaxis": {
            "gridcolor": "white",
            "linecolor": "white",
            "ticks": ""
           },
           "bgcolor": "#E5ECF6",
           "radialaxis": {
            "gridcolor": "white",
            "linecolor": "white",
            "ticks": ""
           }
          },
          "scene": {
           "xaxis": {
            "backgroundcolor": "#E5ECF6",
            "gridcolor": "white",
            "gridwidth": 2,
            "linecolor": "white",
            "showbackground": true,
            "ticks": "",
            "zerolinecolor": "white"
           },
           "yaxis": {
            "backgroundcolor": "#E5ECF6",
            "gridcolor": "white",
            "gridwidth": 2,
            "linecolor": "white",
            "showbackground": true,
            "ticks": "",
            "zerolinecolor": "white"
           },
           "zaxis": {
            "backgroundcolor": "#E5ECF6",
            "gridcolor": "white",
            "gridwidth": 2,
            "linecolor": "white",
            "showbackground": true,
            "ticks": "",
            "zerolinecolor": "white"
           }
          },
          "shapedefaults": {
           "line": {
            "color": "#2a3f5f"
           }
          },
          "ternary": {
           "aaxis": {
            "gridcolor": "white",
            "linecolor": "white",
            "ticks": ""
           },
           "baxis": {
            "gridcolor": "white",
            "linecolor": "white",
            "ticks": ""
           },
           "bgcolor": "#E5ECF6",
           "caxis": {
            "gridcolor": "white",
            "linecolor": "white",
            "ticks": ""
           }
          },
          "title": {
           "x": 0.05
          },
          "xaxis": {
           "automargin": true,
           "gridcolor": "white",
           "linecolor": "white",
           "ticks": "",
           "title": {
            "standoff": 15
           },
           "zerolinecolor": "white",
           "zerolinewidth": 2
          },
          "yaxis": {
           "automargin": true,
           "gridcolor": "white",
           "linecolor": "white",
           "ticks": "",
           "title": {
            "standoff": 15
           },
           "zerolinecolor": "white",
           "zerolinewidth": 2
          }
         }
        },
        "title": {
         "text": "Clusters em um Mapa"
        }
       }
      }
     },
     "metadata": {},
     "output_type": "display_data"
    }
   ],
   "source": [
    "import plotly.express as px\n",
    "import geopandas as gpd\n",
    "from shapely.geometry import Point\n",
    "\n",
    "# Criação de GeoDataFrame a partir do DataFrame\n",
    "geometry = [Point(xy) for xy in zip(novo_df['long'], novo_df['lat'])]\n",
    "geo_df = gpd.GeoDataFrame(novo_df, geometry=geometry, crs='EPSG:4326')\n",
    "\n",
    "# Configurações do mapa\n",
    "fig= px.scatter_geo(geo_df,\n",
    "                     lat='lat',\n",
    "                     lon='long',\n",
    "                     text = 'CNPJ do Destinatario',\n",
    "                     size_max=50,\n",
    "                     title='Clusters em um Mapa',\n",
    "                     projection='natural earth')\n",
    "\n",
    "# Configurações adicionais para tornar o gráfico interativo\n",
    "fig.update_geos(resolution=50, showcoastlines=True, coastlinecolor='black', showland=True, showcountries=True, landcolor='lightgray')\n",
    "fig.update_layout(geo=dict(projection_scale=7), margin=dict(l=0, r=0, t=40, b=0),showlegend=True)\n",
    "\n",
    "# Exibição do gráfico interativo\n",
    "fig.show()\n"
   ]
  },
  {
   "cell_type": "code",
   "execution_count": 125,
   "metadata": {},
   "outputs": [
    {
     "name": "stdout",
     "output_type": "stream",
     "text": [
      "      Date de Cobrança Data Emissão Nota Fiscal  Nota Fiscal Conhecimento  \\\n",
      "3322        2022-09-01               2022-09-20       390806       184597   \n",
      "3323        2022-09-01               2022-09-20       390621       185261   \n",
      "3324        2022-09-01               2022-09-20       390756       185261   \n",
      "3325        2022-09-01               2022-09-20       390807       185463   \n",
      "3326        2022-09-01               2022-09-21       391240       187246   \n",
      "...                ...                      ...          ...          ...   \n",
      "55823       2023-10-01               2023-10-30       455376       781187   \n",
      "55824       2023-10-01               2023-10-30       455083       781337   \n",
      "55825       2023-10-01               2023-10-30       455084       781337   \n",
      "55826       2023-10-01               2023-10-30       455085       781337   \n",
      "55827       2023-10-01               2023-10-30       455086       781337   \n",
      "\n",
      "      Divisão  Modalidade Tabela Aplicada Tipo de Serviço Tipo de Veiculo  \\\n",
      "3322      EPD  RODOVIARIO    Convencional         ENTREGA             NaN   \n",
      "3323      EPD  RODOVIARIO    Convencional         ENTREGA             NaN   \n",
      "3324      EPD  RODOVIARIO    Convencional         ENTREGA             NaN   \n",
      "3325      EPD  RODOVIARIO    Convencional         ENTREGA             NaN   \n",
      "3326       AN  RODOVIARIO    Convencional         ENTREGA             NaN   \n",
      "...       ...         ...             ...             ...             ...   \n",
      "55823      AN  RODOVIARIO    Convencional         ENTREGA             NaN   \n",
      "55824     EPD  RODOVIARIO    Convencional         ENTREGA             NaN   \n",
      "55825     EPD  RODOVIARIO    Convencional         ENTREGA             NaN   \n",
      "55826     EPD  RODOVIARIO    Convencional         ENTREGA             NaN   \n",
      "55827     EPD  RODOVIARIO    Convencional         ENTREGA             NaN   \n",
      "\n",
      "       Veiculo  ... Emex Endereço Adicional  Entrega Frete Canhoto  \\\n",
      "3322       NaN  ...  NaN                NaN      NaN           NaN   \n",
      "3323       NaN  ...  NaN                NaN      NaN           NaN   \n",
      "3324       NaN  ...  NaN                NaN      NaN           NaN   \n",
      "3325       NaN  ...  NaN                NaN      NaN           NaN   \n",
      "3326       NaN  ...  NaN                NaN      NaN           NaN   \n",
      "...        ...  ...  ...                ...      ...           ...   \n",
      "55823      NaN  ...  NaN                NaN      NaN           NaN   \n",
      "55824      NaN  ...  NaN                NaN      NaN           NaN   \n",
      "55825      NaN  ...  NaN                NaN      NaN           NaN   \n",
      "55826      NaN  ...  NaN                NaN      NaN           NaN   \n",
      "55827      NaN  ...  NaN                NaN      NaN           NaN   \n",
      "\n",
      "       Frete Liquido        ICMS  Frete Bruto       lat       long  Cidades  \n",
      "3322             NaN  151.740000  1264.470000 -27.57849 -48.656244      NaN  \n",
      "3323             NaN    1.977289    16.468488 -27.57849 -48.656244      NaN  \n",
      "3324             NaN    2.142509    17.844576 -27.57849 -48.656244      NaN  \n",
      "3325             NaN  154.630000  1288.590000 -27.57849 -48.656244      NaN  \n",
      "3326             NaN    5.155526    42.957050 -27.57849 -48.656244      NaN  \n",
      "...              ...         ...          ...       ...        ...      ...  \n",
      "55823            NaN   50.248934   418.741119 -27.57849 -48.656244      NaN  \n",
      "55824            NaN   45.911934   382.599448 -27.57849 -48.656244      NaN  \n",
      "55825            NaN   26.314166   219.284715 -27.57849 -48.656244      NaN  \n",
      "55826            NaN    3.025938    25.216149 -27.57849 -48.656244      NaN  \n",
      "55827            NaN    8.944581    74.538171 -27.57849 -48.656244      NaN  \n",
      "\n",
      "[338 rows x 64 columns]\n",
      "      Date de Cobrança Data Emissão Nota Fiscal  Nota Fiscal Conhecimento  \\\n",
      "3292        2022-09-01               2022-09-19       390539       183379   \n",
      "3293        2022-09-01               2022-09-19       390451       185459   \n",
      "3294        2022-09-01               2022-09-20       390607       187255   \n",
      "3295        2022-09-01               2022-09-20       391061       187255   \n",
      "3296        2022-09-01               2022-09-22       391368       190315   \n",
      "...                ...                      ...          ...          ...   \n",
      "55797       2023-10-01               2023-10-24       453487       779728   \n",
      "55798       2023-10-01               2023-10-24       453491       779728   \n",
      "55799       2023-10-01               2023-10-30       455344       781206   \n",
      "55800       2023-10-01               2023-10-30       455345       781206   \n",
      "55801       2023-10-01               2023-10-30       455056       781332   \n",
      "\n",
      "      Divisão  Modalidade Tabela Aplicada Tipo de Serviço Tipo de Veiculo  \\\n",
      "3292      EPD  RODOVIARIO    Convencional         ENTREGA             NaN   \n",
      "3293      EPD  RODOVIARIO    Convencional         ENTREGA             NaN   \n",
      "3294      EPD  RODOVIARIO    Convencional         ENTREGA             NaN   \n",
      "3295      EPD  RODOVIARIO    Convencional         ENTREGA             NaN   \n",
      "3296      EPD  RODOVIARIO    Convencional         ENTREGA             NaN   \n",
      "...       ...         ...             ...             ...             ...   \n",
      "55797     EPD  RODOVIARIO    Convencional         ENTREGA             NaN   \n",
      "55798     EPD  RODOVIARIO    Convencional         ENTREGA             NaN   \n",
      "55799     EPD  RODOVIARIO    Convencional         ENTREGA             NaN   \n",
      "55800     EPD  RODOVIARIO    Convencional         ENTREGA             NaN   \n",
      "55801     EPD  RODOVIARIO    Convencional         ENTREGA             NaN   \n",
      "\n",
      "       Veiculo  ... Emex Endereço Adicional  Entrega Frete Canhoto  \\\n",
      "3292       NaN  ...  NaN                NaN      NaN           NaN   \n",
      "3293       NaN  ...  NaN                NaN      NaN           NaN   \n",
      "3294       NaN  ...  NaN                NaN      NaN           NaN   \n",
      "3295       NaN  ...  NaN                NaN      NaN           NaN   \n",
      "3296       NaN  ...  NaN                NaN      NaN           NaN   \n",
      "...        ...  ...  ...                ...      ...           ...   \n",
      "55797      NaN  ...  NaN                NaN      NaN           NaN   \n",
      "55798      NaN  ...  NaN                NaN      NaN           NaN   \n",
      "55799      NaN  ...  NaN                NaN      NaN           NaN   \n",
      "55800      NaN  ...  NaN                NaN      NaN           NaN   \n",
      "55801      NaN  ...  NaN                NaN      NaN           NaN   \n",
      "\n",
      "       Frete Liquido       ICMS  Frete Bruto        lat       long  Cidades  \n",
      "3292             NaN  10.390000    86.610000 -27.771811 -48.661729      NaN  \n",
      "3293             NaN  42.300000   352.530000 -27.771811 -48.661729      NaN  \n",
      "3294             NaN   2.875593    23.960595 -27.771811 -48.661729      NaN  \n",
      "3295             NaN  11.444407    95.359405 -27.771811 -48.661729      NaN  \n",
      "3296             NaN   1.186728     9.888134 -27.771811 -48.661729      NaN  \n",
      "...              ...        ...          ...        ...        ...      ...  \n",
      "55797            NaN   2.644924    22.041035 -27.771811 -48.661729      NaN  \n",
      "55798            NaN   4.084299    34.035829 -27.771811 -48.661729      NaN  \n",
      "55799            NaN   3.050154    25.417949 -27.771811 -48.661729      NaN  \n",
      "55800            NaN   3.481651    29.013756 -27.771811 -48.661729      NaN  \n",
      "55801            NaN   6.345000    52.875000 -27.771811 -48.661729      NaN  \n",
      "\n",
      "[1147 rows x 64 columns]\n"
     ]
    }
   ],
   "source": [
    "print(frete[frete['CNPJ do Destinatario']==61585865212244])\n",
    "print(frete[frete['CNPJ do Destinatario']==45453214003177])"
   ]
  }
 ],
 "metadata": {
  "kernelspec": {
   "display_name": "Python 3",
   "language": "python",
   "name": "python3"
  },
  "language_info": {
   "codemirror_mode": {
    "name": "ipython",
    "version": 3
   },
   "file_extension": ".py",
   "mimetype": "text/x-python",
   "name": "python",
   "nbconvert_exporter": "python",
   "pygments_lexer": "ipython3",
   "version": "3.11.3"
  }
 },
 "nbformat": 4,
 "nbformat_minor": 2
}
